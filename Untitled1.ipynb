{
  "nbformat": 4,
  "nbformat_minor": 0,
  "metadata": {
    "colab": {
      "provenance": [],
      "authorship_tag": "ABX9TyOLUNqnoXjjNUzEOCIRKV3q",
      "include_colab_link": true
    },
    "kernelspec": {
      "name": "python3",
      "display_name": "Python 3"
    },
    "language_info": {
      "name": "python"
    }
  },
  "cells": [
    {
      "cell_type": "markdown",
      "metadata": {
        "id": "view-in-github",
        "colab_type": "text"
      },
      "source": [
        "<a href=\"https://colab.research.google.com/github/timalsinamanabendra/Practice/blob/main/Untitled1.ipynb\" target=\"_parent\"><img src=\"https://colab.research.google.com/assets/colab-badge.svg\" alt=\"Open In Colab\"/></a>"
      ]
    },
    {
      "cell_type": "code",
      "execution_count": null,
      "metadata": {
        "id": "nwSxzw_PpkuP"
      },
      "outputs": [],
      "source": []
    },
    {
      "cell_type": "code",
      "source": [
        "import pandas as pd\n",
        "import numpy as np\n",
        "from datetime import datetime, timedelta"
      ],
      "metadata": {
        "id": "9qcgTxUHpmXt"
      },
      "execution_count": 2,
      "outputs": []
    },
    {
      "cell_type": "code",
      "source": [
        "def generate_normal_traffic():\n",
        "  return{\n",
        "      'timestamp': datetime.noe() - timedelta(seconds=np.random.randint(o, 86400)),\n",
        "      'source_ip': f'192.168.{np.random.randint(0, 255)}.{np.random.randint(0, 255)}',\n",
        "      'destination_ip': f'10.0.{np.random.randint(0, 255)}.{np.random.randint(0, 255)}',\n",
        "      'protocol': np.random.choice(['TCP','UDP', 'ICMP']),\n",
        "      'port': np.random.randint(1, 65535),\n",
        "      'bytes': np.random.normal(1500, 500),\n",
        "      'packets' : np.random.randint(1, 100),\n",
        "      'duration' : np.random.randint(1, 100),\n",
        "      'is_attack' : 0\n",
        "\n",
        "  }\n"
      ],
      "metadata": {
        "id": "7Pvcz4mNq1T1"
      },
      "execution_count": 5,
      "outputs": []
    },
    {
      "cell_type": "code",
      "source": [
        "def generate_attack_traffic():\n",
        "  \"\"\"Generate attack traffic data.\"\"\"\n",
        "  attack_types = {\n",
        "      'ddos': {\n",
        "          'bytes': np.random.normal(10, 1000),\n",
        "          'packets' : np.random.randint(500, 1000),\n",
        "          'duration' : np.random.exponential(5)\n",
        "      },\n",
        "      'port_scan': {\n",
        "          'bytes': np.random.normal(100, 20),\n",
        "          'packets' : np.random.randint(1, 3),\n",
        "          'duration' : np.random.exponential(0.1)\n",
        "    },\n",
        "    'brute_force':{\n",
        "        'bytes': np.random.normal(500, 100),\n",
        "        'packets' : np.random.randint(10, 50),\n",
        "        'duration' : np.random.exponential(1)\n",
        "    },\n",
        "  }\n",
        "attack_type = np.random.choice(list(attack_types.keys()))\n",
        "attack_params = attack_types[attack_type]\n",
        "  return{\n",
        "      'timestamp': datetime.now() - timedelta(seconds= np.random.randint(0, 86400)),\n",
        "      'source_ip': f\"45.(np.random.randint(1, 255).(np.random.randint(1, 255).(np.random.randint(1, 255))\",\n",
        "      'destination_ip': f\"10.0{np.random.randint(1, 255)}.{np.random.randint(1, 255)}\",\n",
        "      'protocol': np.random.choice(['TCP', 'UDP', 'ICMP'], p=[0.8, 0.1, 0.1]),\n",
        "      'port': np.random.randint(1, 65535),\n",
        "      'bytes': np.random.normal('bytes'),\n",
        "      'packets': np.random.randint('packets'),\n",
        "      'duration': np.random.exponential('duration'),\n",
        "      'is_attack': 1\n",
        "      'attack_type': attack_types\n",
        "  }"
      ],
      "metadata": {
        "colab": {
          "base_uri": "https://localhost:8080/",
          "height": 106
        },
        "id": "Tmt-LmOmtAYJ",
        "outputId": "b043e43b-95ff-41f9-c7e1-c215dc671e04"
      },
      "execution_count": 6,
      "outputs": [
        {
          "output_type": "error",
          "ename": "IndentationError",
          "evalue": "unexpected indent (<ipython-input-6-2128075190>, line 22)",
          "traceback": [
            "\u001b[0;36m  File \u001b[0;32m\"<ipython-input-6-2128075190>\"\u001b[0;36m, line \u001b[0;32m22\u001b[0m\n\u001b[0;31m    return {\u001b[0m\n\u001b[0m    ^\u001b[0m\n\u001b[0;31mIndentationError\u001b[0m\u001b[0;31m:\u001b[0m unexpected indent\n"
          ]
        }
      ]
    }
  ]
}